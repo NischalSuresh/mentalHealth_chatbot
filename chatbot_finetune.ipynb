{
  "nbformat": 4,
  "nbformat_minor": 0,
  "metadata": {
    "colab": {
      "provenance": [],
      "authorship_tag": "ABX9TyMMlQMpTZnNsf/VWZVF7x93",
      "include_colab_link": true
    },
    "kernelspec": {
      "name": "python3",
      "display_name": "Python 3"
    },
    "language_info": {
      "name": "python"
    }
  },
  "cells": [
    {
      "cell_type": "markdown",
      "metadata": {
        "id": "view-in-github",
        "colab_type": "text"
      },
      "source": [
        "<a href=\"https://colab.research.google.com/github/NischalSuresh/mentalHealth_chatbot/blob/main/chatbot_finetune.ipynb\" target=\"_parent\"><img src=\"https://colab.research.google.com/assets/colab-badge.svg\" alt=\"Open In Colab\"/></a>"
      ]
    },
    {
      "cell_type": "markdown",
      "source": [
        "## Install necessary libraries"
      ],
      "metadata": {
        "id": "75bN75gvW82X"
      }
    },
    {
      "cell_type": "code",
      "source": [
        "!pip install -q -U trl transformers accelerate git+https://github.com/huggingface/peft.git\n",
        "!pip install -q datasets bitsandbytes einops wandb"
      ],
      "metadata": {
        "colab": {
          "base_uri": "https://localhost:8080/"
        },
        "id": "BuebXeh9E0Ho",
        "outputId": "c2b9d332-64fe-48ae-8bba-f7d22718a9e3"
      },
      "execution_count": 6,
      "outputs": [
        {
          "output_type": "stream",
          "name": "stdout",
          "text": [
            "  Installing build dependencies ... \u001b[?25l\u001b[?25hdone\n",
            "  Getting requirements to build wheel ... \u001b[?25l\u001b[?25hdone\n",
            "  Preparing metadata (pyproject.toml) ... \u001b[?25l\u001b[?25hdone\n"
          ]
        }
      ]
    },
    {
      "cell_type": "markdown",
      "source": [
        "## Import necesssary packages"
      ],
      "metadata": {
        "id": "UWEXhTI-XA7X"
      }
    },
    {
      "cell_type": "code",
      "source": [
        "import torch\n",
        "from transformers import AutoModelForCausalLM, AutoTokenizer, BitsAndBytesConfig\n",
        "from datasets import load_dataset"
      ],
      "metadata": {
        "id": "wq--UF8HW_8X"
      },
      "execution_count": 7,
      "outputs": []
    },
    {
      "cell_type": "markdown",
      "source": [
        "## Load the dataset Counsel_chat from huggingface (https://github.com/nbertagnolli/counsel-chat)"
      ],
      "metadata": {
        "id": "0c229QrIXuKV"
      }
    },
    {
      "cell_type": "code",
      "source": [
        "dataset = load_dataset(\"nbertagnolli/counsel-chat\")\n",
        "dataset = dataset['train'].train_test_split(test_size=0.1)"
      ],
      "metadata": {
        "colab": {
          "base_uri": "https://localhost:8080/"
        },
        "id": "KR8Iod-xXrcd",
        "outputId": "13b17007-9a8d-4ae8-bcff-d1ba8cef62f6"
      },
      "execution_count": 34,
      "outputs": [
        {
          "output_type": "stream",
          "name": "stderr",
          "text": [
            "Repo card metadata block was not found. Setting CardData to empty.\n",
            "WARNING:huggingface_hub.repocard:Repo card metadata block was not found. Setting CardData to empty.\n"
          ]
        }
      ]
    },
    {
      "cell_type": "code",
      "source": [
        "dataset"
      ],
      "metadata": {
        "colab": {
          "base_uri": "https://localhost:8080/"
        },
        "id": "WOnhFNdrYQUL",
        "outputId": "dc41a4e9-d424-4318-c599-e13b8662030c"
      },
      "execution_count": 35,
      "outputs": [
        {
          "output_type": "execute_result",
          "data": {
            "text/plain": [
              "DatasetDict({\n",
              "    train: Dataset({\n",
              "        features: ['questionID', 'questionTitle', 'questionText', 'questionLink', 'topic', 'therapistInfo', 'therapistURL', 'answerText', 'upvotes', 'views'],\n",
              "        num_rows: 2497\n",
              "    })\n",
              "    test: Dataset({\n",
              "        features: ['questionID', 'questionTitle', 'questionText', 'questionLink', 'topic', 'therapistInfo', 'therapistURL', 'answerText', 'upvotes', 'views'],\n",
              "        num_rows: 278\n",
              "    })\n",
              "})"
            ]
          },
          "metadata": {},
          "execution_count": 35
        }
      ]
    },
    {
      "cell_type": "code",
      "source": [
        "len(dataset['train'])"
      ],
      "metadata": {
        "colab": {
          "base_uri": "https://localhost:8080/"
        },
        "id": "McnsrCIHcLqK",
        "outputId": "78a822bd-b57f-4e12-b258-5fe4093e3c40"
      },
      "execution_count": 36,
      "outputs": [
        {
          "output_type": "execute_result",
          "data": {
            "text/plain": [
              "2497"
            ]
          },
          "metadata": {},
          "execution_count": 36
        }
      ]
    },
    {
      "cell_type": "code",
      "source": [
        "dataset['train']['answerText'][:3]"
      ],
      "metadata": {
        "colab": {
          "base_uri": "https://localhost:8080/"
        },
        "id": "XcM94FO814Yv",
        "outputId": "113c4834-159e-4dfb-d550-0a8b6ea92880"
      },
      "execution_count": 41,
      "outputs": [
        {
          "output_type": "execute_result",
          "data": {
            "text/plain": [
              "[\"Anger is a normal emotion, and yet it is a really hard one... how much is too much? and how do you express it without damaging those around you? yes mom's get angry, sometimes too easy... but its their responsibility to manage their anger-- get their own support and put themselves in time outs when they cannot handle it well.\\xa0 Since you are the kids, you shouldn't have to fix or calm down mom's anger. Maybe in a calmer time when you guys are being silly talk with her one on one? Tell her\\xa0 you are feeling sad and hurt that she gets upset at you girls. Ask her if there is 1 thing you can work on this next month to help her. Ask her if she would work on 1 thing for you this month-- not yelling? taking a time out? telling you before she blows her top so you can exit the room? Also for you, check out a library book on anger so you know how to handle yours, and one on parents and anger. Number one to remember, if you don't feel safe, if she is calling you names, or hurting you, breaking things etc. make sure you go to a trusted adult--school counselor, neighbor, aunt, church friend as soon as possible. You are much too important to be hurt and if mom is out of control, someone else\\xa0needs to be --caring for you.\",\n",
              " 'Congrats on your upcoming wedding!Have you told the thoughts you write here, to your fiancé ?This is the place to start since you clearly are unhappy with a part of his and now your life, which will be with you for quite some time.',\n",
              " \"It sounds like you are hating some of the things that your mom does rather than hating her.Something you may be able to do is call the area agency on aging for the county where you live and ask for information about having other people help to care for your mom. I don't know how old your mom is, but if she is younger, they would probably have resources to other ways that you could have help. If you are both open to the possibility of someone else helping out, this may help with some of the difficulties between you if you are not spending quite as much time together. Do you think your mom is able to actually recognize how what she does and says affects you?From whom do you have support during all of this?\"]"
            ]
          },
          "metadata": {},
          "execution_count": 41
        }
      ]
    },
    {
      "cell_type": "code",
      "source": [
        "print(dataset['train']['answerText'][0])"
      ],
      "metadata": {
        "colab": {
          "base_uri": "https://localhost:8080/"
        },
        "id": "lartX0jH2P3_",
        "outputId": "ae376ac1-0ddc-4f02-d254-858ead676118"
      },
      "execution_count": 45,
      "outputs": [
        {
          "output_type": "stream",
          "name": "stdout",
          "text": [
            "Anger is a normal emotion, and yet it is a really hard one... how much is too much? and how do you express it without damaging those around you? yes mom's get angry, sometimes too easy... but its their responsibility to manage their anger-- get their own support and put themselves in time outs when they cannot handle it well.  Since you are the kids, you shouldn't have to fix or calm down mom's anger. Maybe in a calmer time when you guys are being silly talk with her one on one? Tell her  you are feeling sad and hurt that she gets upset at you girls. Ask her if there is 1 thing you can work on this next month to help her. Ask her if she would work on 1 thing for you this month-- not yelling? taking a time out? telling you before she blows her top so you can exit the room? Also for you, check out a library book on anger so you know how to handle yours, and one on parents and anger. Number one to remember, if you don't feel safe, if she is calling you names, or hurting you, breaking things etc. make sure you go to a trusted adult--school counselor, neighbor, aunt, church friend as soon as possible. You are much too important to be hurt and if mom is out of control, someone else needs to be --caring for you.\n"
          ]
        }
      ]
    },
    {
      "cell_type": "markdown",
      "source": [
        "## Prompt template used in Llama-2 original model :\n",
        "[INST] \\<\\<SYS\\>\\>\n",
        "You are a helpful, respectful and honest assistant. Always answer as helpfully as possible, while being safe.  Your answers should not include any harmful, unethical, racist, sexist, toxic, dangerous, or illegal content. Please ensure that your responses are socially unbiased and positive in nature. If a question does not make any sense, or is not factually coherent, explain why instead of answering something not correct. If you don't know the answer to a question, please don't share false information.\n",
        "\\<\\</SYS\\>\\>\n",
        "{prompt}[/INST] <br>\n",
        " Source:\n",
        " - https://huggingface.co/TheBloke/Llama-2-70B-Chat-GGML\n",
        " - https://github.com/huggingface/blog/blob/main/llama2.md#fine-tuning-with-peft\n",
        "\n",
        " Refer chat_completion fn from generation.py for finetuning template - https://github.com/facebookresearch/llama/blob/main/llama/generation.py#L45"
      ],
      "metadata": {
        "id": "Is2jw0swf2Wt"
      }
    },
    {
      "cell_type": "markdown",
      "source": [
        "## Format the text prompt to required format"
      ],
      "metadata": {
        "id": "dueu5djFbs1o"
      }
    },
    {
      "cell_type": "code",
      "source": [
        "def formatting_prompts_func(counsel_data):\n",
        "  output_texts = []\n",
        "  for i in range(len(counsel_data)):\n",
        "    if(counsel_data['answerText'][i]) is None:\n",
        "      pass\n",
        "    else:\n",
        "      question = (counsel_data['questionText'][i]) if (counsel_data['questionText'][i]) is not None else (counsel_data['questionTitle'][i])\n",
        "      text = f\"</s>You are a helpful, respectful and honest assistant. Always answer as helpfully as possible, while being safe.\\n### Question: {question.strip()}\\n### Answer: {(counsel_data['answerText'][i]).strip()}</s>\"\n",
        "      output_texts.append(text)\n",
        "  return output_texts"
      ],
      "metadata": {
        "id": "q5ZJnML-bsQw"
      },
      "execution_count": 16,
      "outputs": []
    },
    {
      "cell_type": "markdown",
      "source": [
        "## Check data for error (missing entries)"
      ],
      "metadata": {
        "id": "zI8M_Vi_zWqO"
      }
    },
    {
      "cell_type": "code",
      "source": [
        "print(len(dataset['train']))\n",
        "for i in range(len(dataset['train'])):\n",
        "  try:\n",
        "    question = (dataset['train']['questionText'][i]) if (dataset['train']['questionText'][i]) is not None else (dataset['train']['questionTitle'][i])\n",
        "    answer = (dataset['train']['answerText'][i])\n",
        "  except:\n",
        "    print(\"error\",i)\n"
      ],
      "metadata": {
        "colab": {
          "base_uri": "https://localhost:8080/"
        },
        "id": "MuIygxrPstSU",
        "outputId": "ad71469b-456b-4456-9457-ad96a9db53fe"
      },
      "execution_count": 17,
      "outputs": [
        {
          "output_type": "stream",
          "name": "stdout",
          "text": [
            "2497\n"
          ]
        }
      ]
    },
    {
      "cell_type": "code",
      "source": [
        "out = formatting_prompts_func(dataset['train'])"
      ],
      "metadata": {
        "id": "UozepIKJdDQD"
      },
      "execution_count": 18,
      "outputs": []
    },
    {
      "cell_type": "markdown",
      "source": [
        "## check data output"
      ],
      "metadata": {
        "id": "vkszJH7920dT"
      }
    },
    {
      "cell_type": "code",
      "source": [
        "print(out[9])"
      ],
      "metadata": {
        "colab": {
          "base_uri": "https://localhost:8080/"
        },
        "id": "X4jAA5lP0ZTw",
        "outputId": "25cb4a48-8f73-4190-abef-1ce1eabdb922"
      },
      "execution_count": 48,
      "outputs": [
        {
          "output_type": "stream",
          "name": "stdout",
          "text": [
            "</s>You are a helpful, respectful and honest assistant. Always answer as helpfully as possible, while being safe.\n",
            "### Question: It takes me a long time to fall asleep; I’d estimate about two hours. I often have nightmares, starting with being eaten by a monster, and I often wake up frightened and unable to breathe. I believe I started losing sleep after breaking up with a girlfriend of 8 years. Also, my father’s business went bankrupt and my mother has a chronic condition. I was under a lot of stress, and life lost meaning. After improving my life and developing a habit of running and exercise to release stress, my symptoms improved. However in the past couple months, I started losing sleep again and having nightmares without warning. How can I solve this issue?\n",
            "### Answer: First of all, exercise is always beneficial for your physical and emotional health. That's great that you have added this in your routine. Have you also considered altering your diet? Certain foods are linked with poor sleep. For example, alcohol, caffeine, nicotine and high fat content foods do not bode well with quality sleep, especially right before bed time.  On the other hand, warm milk and foods high in carbohydrates have actually shown to positively impact sleep.Additionally, at bed time it's important to keep your room dim, cool and without distractions (i.e. TV, IPad, Phone). Stick to a sleep routine and avoid any activities close to bed time that demand a lot of attention and energy.As far as your nightmares, there could be many causes contributing to them. Certain foods (many of the ones mentioned) or medications could be the culprit. Doing a bit of research into the ones you are consuming may help you eliminate the offender. You may also benefit from talk therapy with a qualified therapist to discuss any underlying issues you are experiencing. Oftentimes, depression and anxiety can manifest themselves during sleep, causing nightmares. Finally, Yoga has shown to be very beneficial for quality sleep. There are many instructional videos available that can introduce you to the practice if you'd rather not join a class right away. Best of luck to you and I sincerely hope you are able to catch up on some well deserved Z's!</s>\n"
          ]
        }
      ]
    },
    {
      "cell_type": "markdown",
      "source": [
        "## checking Llama format from llama-recipes"
      ],
      "metadata": {
        "id": "39y-oi_cqRaV"
      }
    },
    {
      "cell_type": "code",
      "source": [
        "!pip install llama-recipes\n"
      ],
      "metadata": {
        "id": "4zFKQuf7dTIr"
      },
      "execution_count": null,
      "outputs": []
    },
    {
      "cell_type": "code",
      "source": [
        "from llama_recipes.utils.dataset_utils import get_preprocessed_dataset\n",
        "from llama_recipes.configs.datasets import samsum_dataset\n",
        "\n",
        "temp_dataset = get_preprocessed_dataset(tokenizer, samsum_dataset, 'train')"
      ],
      "metadata": {
        "id": "OtZEWovkneIf"
      },
      "execution_count": null,
      "outputs": []
    },
    {
      "cell_type": "code",
      "source": [
        "temp_dataset"
      ],
      "metadata": {
        "id": "y05QtzGkniXf"
      },
      "execution_count": null,
      "outputs": []
    },
    {
      "cell_type": "code",
      "source": [
        "tokenizer.decode(temp_dataset[1]['input_ids'])"
      ],
      "metadata": {
        "colab": {
          "base_uri": "https://localhost:8080/",
          "height": 174
        },
        "id": "XXatOnKjnxxl",
        "outputId": "eaee396b-a46c-4dc3-effb-85d50af46630"
      },
      "execution_count": 58,
      "outputs": [
        {
          "output_type": "execute_result",
          "data": {
            "text/plain": [
              "': I can pick you up on the way to the restaurant.\\r\\nAgnes: That\\'s really kind of you.\\r\\nMatt: No problem.\\r\\nAgnes: See you on saturday.\\r\\nMatt: Yes, looking forward to it.\\r\\nAgnes: Me too.\\n---\\nSummary:\\nMatt invites Agnes for a date to get to know each other better. They\\'ll go to the Georgian restaurant in Kazimierz on Saturday at 6 pm, and he\\'ll pick her up on the way to the place.</s></s>Summarize this dialog:\\nLucas: Hey! How was your day?\\r\\nDemi: Hey there! \\r\\nDemi: It was pretty fine, actually, thank you!\\r\\nDemi: I just got promoted! :D\\r\\nLucas: Whoa! Great news!\\r\\nLucas: Congratulations!\\r\\nLucas: Such a success has to be celebrated.\\r\\nDemi: I agree! :D\\r\\nDemi: Tonight at Death & Co.?\\r\\nLucas: Sure!\\r\\nLucas: See you there at 10pm?\\r\\nDemi: Yeah! See you there! :D\\n---\\nSummary:\\nDemi got promoted. She will celebrate that with Lucas at Death & Co at 10 pm.</s></s>Summarize this dialog:\\nMark: I just shipped the goods\\r\\nMark: Tomorrow I’ll send you the tracking number\\r\\nGeorge: Thanks!\\n---\\nSummary:\\nMark just shipped the goods and he will send George the tracking number tomorrow.</s></s>Summarize this dialog:\\nAnita: I\\'m at the station in Bologna\\nJenny: No problems so far?\\nAnita: no, everything\\'s going smoothly\\nTomy: good!\\n---\\nSummary:\\nAnita is at Bologna station.</s></s>Summarize this dialog:\\nLeon: did you find the job yet?\\r\\nArthur: no bro, still unemployed :D\\r\\nLeon: hahaha, LIVING LIFE\\r\\nArthur: i love it, waking up at noon, watching sports - what else could a man want?\\r\\nLeon: a paycheck? ;)\\r\\nArthur: don\\'t be mean... \\r\\nLeon: but seriously, my mate has an offer as a junior project manager at his company, are you interested?\\r\\nArthur: sure thing, do you have any details?\\r\\nLeon: <file_photo>\\r\\nArthur: that actually looks nice, should I reach out directly to your friend or just apply to this email address from the screenshot?\\r\\nLeon: it\\'s his email, you can send your resume directly and I will mention to him who you are :)\\n---\\nSummary:\\nArthur is still unemployed. Leon sends him a job offer for junior project manager position. Arthur is interested.</s></s>Summarize this dialog:\\nMacca: i\\'m so exited today\\nAdrien: why?\\nMacca: I\\'ve never done ice climbing before\\nMark: Are you ready?\\nMacca: think so\\nTobias: where are you doing this?\\nMacca: not far from Reykjavik\\nMacca: Has anybody seriously injured themselves doing this?\\nMark: not seriously\\nAdrien: I didn\\'t know you\\'re in Iceland!\\nMacca: hahaha, doesn\\'t sound so good\\nMark: no need to be afraid\\nMacca: gosh, it was such a rush\\nMark: did you enjoy it?\\nMacca: every second\\nMacca: it was not very cold\\nMacca: the landscapes were magnificent\\nMark: I\\'m glad to read that\\nMacca: Challenge of the day done!\\n---\\nSummary:\\nMacca has done ice climbing for the first time today, close to Reykjavik. He enjoyed it very much.</s></s>Summarize this dialog:\\nIsabella: fuck my life, I\\'m so not able to get up to work today\\r\\nIsabella: I need to call in sick :(\\r\\nOscar: haha, well you certainly had a good time at the Christmas party yesterday XD\\r\\nIsabella: shut up, you\\'re a traitor\\r\\nIsabella: I told you to guard my glass\\r\\nIsabella: and my sobriety. You clearly failed!\\r\\nOscar: but you were having such fun, I didn\\'t have a heart to stop it\\r\\nOscar: <file_photo>\\r\\nOscar: <file_photo>\\r\\nIsabella: you\\'re so dead! Is that Jimmy from marketing department?\\r\\nOscar: yes indeed, it\\'s him :D\\r\\nIsabella: I am a fallen woman, I cannot get back to the office now\\r\\nIsabella: <file_gif>\\r\\nOscar: oh come on, almost everybody was drunk\\r\\nOscar: so they won\\'t remember a thing :D\\r\\nIsabella: I assure you, they tend to remember such things…\\r\\nOscar: <file_gif>\\n---\\nSummary:\\nIsabella feels bad after the Christmas party. She got drunk. She is ashamed to go back to work. </s></s>Summarize this dialog:\\nTina: I\\'d only like to remind you that you owe me 50 bucks\\r\\nLucy: Of course, I know.\\r\\nLucy: I\\'ve already transferred the money but it\\'s Sunday today so you\\'ll have it in your bank account tomorrow\\r\\nTina: That\\'s good news cuz I\\'ve been having a lot of expenses lately\\n---\\nSummary:\\nLucy owes Tina 50 dollars. She made a transfer but it is Sunday so the payment will be on Tina\\'s account on Monday. Tina needs the money because she has been having expanses recently.</s></s>Summarize this dialog:\\nBetty: Please remind me next time that too much wine isn\\'t good for me and me surrounding\\r\\nBetty: Hangover is one thing\\r\\nBetty: But I feel like never touching wine again\\r\\nAmber: Hahaha. You were so drunk with wine last night, you couldn\\'t walk straight even 5 steps\\r\\nAmber: You took off your weeding ring and shouted \"My precious\"\\r\\nBetty: Uhh. I have no blackouts so I know exactly what to feel embarassed about....\\n---\\nSummary:\\nBetty feels remorse she got drunk last night and went out of control.</s></s>Summarize this dialog:\\nMary: Hi Mike!\\r\\nMike: Hello :)\\r\\nMary: do u have any plans for tonight?\\r\\nMike: I\\'m going to visit my grandma.\\r\\nMike: You can go with me.\\r\\nMike: She likes u very much.\\r\\nMary: Good idea, i\\'ll buy some chocolate for her.\\n---\\nSummary:\\nMike and Mary are going to visit Mike\\'s grandma tonight. Mary will buy her some chocolate.</s></s>Summarize this dialog:\\nLaura: ok, I\\'m done for today-)\\r\\nLaura: let me know once u\\'re free and we come back home together\\r\\nKim: hmm.. 7?\\r\\nLaura: ok\\r\\nKim: cool, wait for me at work, I\\'ll call once I get here\\n---\\nSummary:\\nLaura will pick up Kim from work around 7, and they will come back home together.</s></s>Summarize this dialog:\\nAshley: Guys, you have to read this book!  <file_photo>\\r\\nMarcus: Why, what\\'s so special about it?\\r\\nErin: I think I\\'ve already heard about it from someone. Is it really that good?\\r\\nAshley: It\\'s the best thing I\\'ve ever read! Completely life-changing! It\\'s opened my eyes to a lot of things.\\r\\nSeamus: Sorry, but I don\\'t like books that are written to change my life. I prefer books that are simply fun to read :P\\r\\nMarcus: I get what you mean. I feel like some authors are so concentrated on making their books full of wisdom that they completely forget that they should also be readable.\\r\\nErin: Do you mean Coelho? XD\\r\\nMarcus: No, while I\\'m not a fan of his, at least I\\'ve never fallen asleep while reading his books. I meant this one for example: <file_other>\\r\\nAshley: Erm, I quite like his books.\\r\\nSeamus: Did they change your life too? :D\\r\\nAshley: Wait, I meant Coelho. I\\'ve never read the other guy.\\r\\nMarcus: Trust me, don\\'t. There are lots of better ways of wasting your time.\\r\\nAshley: LOL, okay, I trust you. But the one I posted at the beginning is really good. It\\'s not just some philosophical gibberish, it\\'s actually a crime novel, so there\\'s a lot of action too.\\r\\nErin: Does it have a cute detective? ;)\\r\\nAshley: Even two of them, actually. Believe me, you won\\'t be able to decide which one to love more!\\r\\nErin: Okay, I\\'m already sold :D\\n---\\nSummary:\\nErin is convinced by Ashley\\'s book recommendations, while Seamus and Marcus aren\\'t.</s></s>Summarize this dialog:\\nAria: You won\\'t believe who I\\'ve just met!\\r\\nAria: Charlie Evans!\\r\\nMaverick: Oh God, I haven\\'t seen him from ages!\\r\\nMaverick: How is he doing?\\r\\nAria: He\\'s doing great. :)\\r'"
            ],
            "application/vnd.google.colaboratory.intrinsic+json": {
              "type": "string"
            }
          },
          "metadata": {},
          "execution_count": 58
        }
      ]
    }
  ]
}